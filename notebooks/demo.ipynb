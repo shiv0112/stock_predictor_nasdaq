{
 "cells": [
  {
   "cell_type": "code",
   "execution_count": 3,
   "metadata": {},
   "outputs": [
    {
     "name": "stdout",
     "output_type": "stream",
     "text": [
      "1\n",
      "adp.pkl\n"
     ]
    }
   ],
   "source": [
    "list_model=['aapl.pkl','adp.pkl','cboe.pkl','csco.pkl','ebay.pkl']\n",
    "list_stock=['NASDAQ.AAPL','NASDAQ.ADP','NASDAQ.CBOE','NASDAQ.CSCO','NASDAQ.EBAY']\n",
    "ind=list_stock.index(str(\"NASDAQ.ADP\"))\n",
    "\n",
    "print(ind)\n",
    "print(list_model[ind])"
   ]
  },
  {
   "cell_type": "code",
   "execution_count": null,
   "metadata": {},
   "outputs": [],
   "source": []
  }
 ],
 "metadata": {
  "kernelspec": {
   "display_name": "Python 3.9.13 ('base')",
   "language": "python",
   "name": "python3"
  },
  "language_info": {
   "codemirror_mode": {
    "name": "ipython",
    "version": 3
   },
   "file_extension": ".py",
   "mimetype": "text/x-python",
   "name": "python",
   "nbconvert_exporter": "python",
   "pygments_lexer": "ipython3",
   "version": "3.9.13"
  },
  "orig_nbformat": 4,
  "vscode": {
   "interpreter": {
    "hash": "5358296a40f291bd2120dabebe7eb32500c0c4a93eeca3dc9ff89ab92ed09b03"
   }
  }
 },
 "nbformat": 4,
 "nbformat_minor": 2
}
